{
  "nbformat": 4,
  "nbformat_minor": 0,
  "metadata": {
    "colab": {
      "provenance": [],
      "collapsed_sections": [
        "VARRDzzrpSHi",
        "NvxV7JwnpV6r",
        "qS-VBXNgpdmr",
        "K8vI6uMIpn2p",
        "94yvLl2_p6yT",
        "uyTvsiZ9p-vb",
        "9k98346YqD6H",
        "EA54HCmbqG99",
        "aaDb78f9qM9f"
      ]
    },
    "kernelspec": {
      "name": "python3",
      "display_name": "Python 3"
    },
    "language_info": {
      "name": "python"
    }
  },
  "cells": [
    {
      "cell_type": "markdown",
      "source": [
        "# **AI Assignment 22l-7497**"
      ],
      "metadata": {
        "id": "cQlo7BO2SGCq"
      }
    },
    {
      "cell_type": "markdown",
      "source": [
        "## Importing Libaraies"
      ],
      "metadata": {
        "id": "VARRDzzrpSHi"
      }
    },
    {
      "cell_type": "code",
      "execution_count": 1,
      "metadata": {
        "id": "WstCpG8tSdYI"
      },
      "outputs": [],
      "source": [
        "import heapq\n",
        "import time\n",
        "import pandas as pd\n",
        "import numpy as np\n",
        "from collections import deque"
      ]
    },
    {
      "cell_type": "markdown",
      "source": [
        "## Starting States of matrices"
      ],
      "metadata": {
        "id": "NvxV7JwnpV6r"
      }
    },
    {
      "cell_type": "code",
      "source": [
        "start_state = [[1, 2, 0],\n",
        "               [3, 4, 5],\n",
        "               [6, 7, 8]]\n",
        "\n",
        "goal_state = [[0, 1, 2],\n",
        "              [3, 4, 5],\n",
        "              [6, 7, 8]]"
      ],
      "metadata": {
        "id": "JpMWmwu0SgN3"
      },
      "execution_count": 2,
      "outputs": []
    },
    {
      "cell_type": "markdown",
      "source": [
        "## Zero Function\n",
        "This helps to find the start state for every algorithm"
      ],
      "metadata": {
        "id": "qS-VBXNgpdmr"
      }
    },
    {
      "cell_type": "code",
      "source": [
        "def find_zero(state):\n",
        "    for i in range(3):\n",
        "        for j in range(3):\n",
        "            if state[i][j] == 0:\n",
        "                return i, j"
      ],
      "metadata": {
        "id": "d-ci2jZQTH_n"
      },
      "execution_count": 3,
      "outputs": []
    },
    {
      "cell_type": "markdown",
      "source": [
        "## Neighbour Function\n",
        "This returns the list of neighbours a node have at every instance"
      ],
      "metadata": {
        "id": "K8vI6uMIpn2p"
      }
    },
    {
      "cell_type": "code",
      "source": [
        "def get_neighbors(state):\n",
        "    i, j = find_zero(state)\n",
        "    moves = [(-1, 0), (1, 0), (0, -1), (0, 1)]\n",
        "    neighbors = []\n",
        "\n",
        "    for di, dj in moves:\n",
        "        ni, nj = i + di, j + dj\n",
        "        if 0 <= ni < 3 and 0 <= nj < 3:\n",
        "            new_state = [row[:] for row in state]\n",
        "            new_state[i][j], new_state[ni][nj] = new_state[ni][nj], new_state[i][j]\n",
        "            neighbors.append(new_state)\n",
        "\n",
        "    return neighbors\n"
      ],
      "metadata": {
        "id": "MEfkFrX7SsBa"
      },
      "execution_count": 4,
      "outputs": []
    },
    {
      "cell_type": "markdown",
      "source": [
        "## BFS Algorithm"
      ],
      "metadata": {
        "id": "94yvLl2_p6yT"
      }
    },
    {
      "cell_type": "code",
      "source": [
        "def bfs(state):\n",
        "    start_time = time.time()\n",
        "\n",
        "    queue = deque([(state, [])])\n",
        "    visited = set()\n",
        "    visited.add(str(state))\n",
        "    max1 = len(queue)\n",
        "    nodes_visited = 0\n",
        "    while queue:\n",
        "        state, path = queue.popleft()\n",
        "        nodes_visited += 1\n",
        "\n",
        "        if state == goal_state:\n",
        "            return len(path), nodes_visited, time.time() - start_time, max1\n",
        "\n",
        "        for neighbor in get_neighbors(state):\n",
        "            if str(neighbor) not in visited:\n",
        "                visited.add(str(neighbor))\n",
        "                queue.append((neighbor, path + [neighbor]))\n",
        "                if len(queue) > max1:\n",
        "                  max1 = len(queue)\n",
        "\n",
        "    return (-1, nodes_visited, time.time() - start_time, max1)\n"
      ],
      "metadata": {
        "id": "VYt1qeBfOvm7"
      },
      "execution_count": 5,
      "outputs": []
    },
    {
      "cell_type": "code",
      "source": [
        "path_cost1, nodes1, duration1, max1= bfs(start_state)\n",
        "print(\"\\n--- BFS Algorithm ---\")\n",
        "print(f\"Time Taken: {duration1:.6f} seconds\")\n",
        "print(f\"Path Cost: {path_cost1}\")\n",
        "print(f\"Nodes Visited: {nodes1}\")\n",
        "print(f\"Memory used: {max1} nodes\")\n"
      ],
      "metadata": {
        "colab": {
          "base_uri": "https://localhost:8080/"
        },
        "id": "spS6xRq1OygS",
        "outputId": "8cf4458b-9b67-4bd2-b704-70ac03602ef8"
      },
      "execution_count": 6,
      "outputs": [
        {
          "output_type": "stream",
          "name": "stdout",
          "text": [
            "\n",
            "--- BFS Algorithm ---\n",
            "Time Taken: 0.000222 seconds\n",
            "Path Cost: 2\n",
            "Nodes Visited: 7\n",
            "Memory used: 8 nodes\n"
          ]
        }
      ]
    },
    {
      "cell_type": "markdown",
      "source": [
        "## DFS Algorithm"
      ],
      "metadata": {
        "id": "uyTvsiZ9p-vb"
      }
    },
    {
      "cell_type": "code",
      "source": [
        "def dfs(state):\n",
        "    start_time = time.time()\n",
        "\n",
        "    stack = [(state, [])]\n",
        "    visited = set()\n",
        "    visited.add(str(state))\n",
        "    max_stack_size = len(stack)\n",
        "    nodes_visited = 0\n",
        "\n",
        "    while stack:\n",
        "        state, path = stack.pop()\n",
        "        nodes_visited += 1\n",
        "\n",
        "        if state == goal_state:\n",
        "            return len(path), nodes_visited, time.time() - start_time, max_stack_size\n",
        "\n",
        "        for neighbor in get_neighbors(state):\n",
        "            if str(neighbor) not in visited:\n",
        "                visited.add(str(neighbor))\n",
        "                stack.append((neighbor, path + [neighbor]))\n",
        "                if len(stack) > max_stack_size:\n",
        "                    max_stack_size = len(stack)\n",
        "\n",
        "    return -1, nodes_visited, time.time() - start_time, max_stack_size\n",
        "\n"
      ],
      "metadata": {
        "id": "Y3GP-ijLVwXC"
      },
      "execution_count": 7,
      "outputs": []
    },
    {
      "cell_type": "code",
      "source": [
        "path_cost2, nodes2, duration2, max_stack2 = dfs(start_state)\n",
        "\n",
        "print(\"\\n--- DFS Algorithm ---\")\n",
        "print(f\"Time Taken: {duration2:.6f} seconds\")\n",
        "print(f\"Path Cost: {path_cost2}\")\n",
        "print(f\"Nodes Visited: {nodes2}\")\n",
        "print(f\"Memory Used: {max_stack2} nodes\")"
      ],
      "metadata": {
        "colab": {
          "base_uri": "https://localhost:8080/"
        },
        "id": "SkgCT0W_V0Ze",
        "outputId": "be82f0a2-cf7d-4aad-8ec8-8e971cc93793"
      },
      "execution_count": 8,
      "outputs": [
        {
          "output_type": "stream",
          "name": "stdout",
          "text": [
            "\n",
            "--- DFS Algorithm ---\n",
            "Time Taken: 0.000070 seconds\n",
            "Path Cost: 2\n",
            "Nodes Visited: 3\n",
            "Memory Used: 3 nodes\n"
          ]
        }
      ]
    },
    {
      "cell_type": "markdown",
      "source": [
        "## IDS Algorithm"
      ],
      "metadata": {
        "id": "9k98346YqD6H"
      }
    },
    {
      "cell_type": "code",
      "source": [
        "def depth_limited_search(state, depth):\n",
        "    stack = [(state, [], 0)]\n",
        "    visited = set()\n",
        "    nodes_visited = 0\n",
        "\n",
        "    while stack:\n",
        "        state, path, current_depth = stack.pop()\n",
        "        nodes_visited += 1\n",
        "\n",
        "        if state == goal_state:\n",
        "            return path, nodes_visited\n",
        "\n",
        "        if current_depth < depth:\n",
        "            for neighbor in get_neighbors(state):\n",
        "                if str(neighbor) not in visited:\n",
        "                    visited.add(str(neighbor))\n",
        "                    stack.append((neighbor, path + [neighbor], current_depth + 1))\n",
        "\n",
        "    return None, nodes_visited\n",
        "\n"
      ],
      "metadata": {
        "id": "hktTb6iZWcIh"
      },
      "execution_count": 9,
      "outputs": []
    },
    {
      "cell_type": "code",
      "source": [
        "def ids(state):\n",
        "    start_time = time.time()\n",
        "    depth = 0\n",
        "    total_nodes = 0\n",
        "\n",
        "    while True:\n",
        "        path, nodes_visited = depth_limited_search(state, depth)\n",
        "        total_nodes += nodes_visited\n",
        "\n",
        "        if path is not None:\n",
        "            return depth, total_nodes, time.time() - start_time, depth\n",
        "\n",
        "        depth += 1\n",
        "\n",
        "\n"
      ],
      "metadata": {
        "id": "oBP-gABnZX3s"
      },
      "execution_count": 10,
      "outputs": []
    },
    {
      "cell_type": "code",
      "source": [
        "path_cost3, nodes3, duration3, max_depth3 = ids(start_state)\n",
        "print(\"\\n--- IDS Algorithm ---\")\n",
        "print(f\"Time Taken: {duration3:.6f} seconds\")\n",
        "print(f\"Path Cost: {path_cost3}\")\n",
        "print(f\"Nodes Visited: {nodes3}\")\n",
        "print(f\"Memory Used: {max_depth3} nodes\")\n",
        "\n"
      ],
      "metadata": {
        "colab": {
          "base_uri": "https://localhost:8080/"
        },
        "id": "WSTjbJ_3ZhLk",
        "outputId": "67014b14-5794-49bb-9cdb-eb3e03d0b21c"
      },
      "execution_count": 11,
      "outputs": [
        {
          "output_type": "stream",
          "name": "stdout",
          "text": [
            "\n",
            "--- IDS Algorithm ---\n",
            "Time Taken: 0.000060 seconds\n",
            "Path Cost: 2\n",
            "Nodes Visited: 8\n",
            "Memory Used: 2 nodes\n"
          ]
        }
      ]
    },
    {
      "cell_type": "markdown",
      "source": [
        "## UCS Algorithm"
      ],
      "metadata": {
        "id": "EA54HCmbqG99"
      }
    },
    {
      "cell_type": "code",
      "source": [
        "def get_neighbors_ucs(state):\n",
        "    i, j = find_zero(state)\n",
        "    moves = [(-1, 0), (1, 0), (0, -1), (0, 1)]\n",
        "    neighbors = []\n",
        "\n",
        "    for di, dj in moves:\n",
        "        ni, nj = i + di, j + dj\n",
        "        if 0 <= ni < 3 and 0 <= nj < 3:\n",
        "            new_state = [row[:] for row in state]\n",
        "            new_state[i][j], new_state[ni][nj] = new_state[ni][nj], new_state[i][j]\n",
        "            neighbors.append((new_state, 1))\n",
        "\n",
        "    return neighbors"
      ],
      "metadata": {
        "id": "ubOk9hQ6cbJt"
      },
      "execution_count": 12,
      "outputs": []
    },
    {
      "cell_type": "code",
      "source": [
        "def ucs(state):\n",
        "    start_time = time.time()\n",
        "\n",
        "    priority_queue = [(0, state, [])]\n",
        "    visited = set()\n",
        "    nodes_visited = 0\n",
        "    max_nodes = 1\n",
        "\n",
        "    while priority_queue:\n",
        "        cost, current_state, path = heapq.heappop(priority_queue)\n",
        "        nodes_visited += 1\n",
        "\n",
        "        if current_state == goal_state:\n",
        "            return cost, nodes_visited, time.time() - start_time, max_nodes, path\n",
        "\n",
        "        visited.add(str(current_state))\n",
        "\n",
        "        for neighbor, move_cost in get_neighbors_ucs(current_state):\n",
        "            if str(neighbor) not in visited:\n",
        "                heapq.heappush(priority_queue, (cost + move_cost, neighbor, path + [neighbor]))\n",
        "                max_nodes = max(max_nodes, len(priority_queue))\n",
        "\n",
        "    return -1, nodes_visited, time.time() - start_time, max_nodes, []"
      ],
      "metadata": {
        "id": "j_H9iaU0Zh1g"
      },
      "execution_count": 13,
      "outputs": []
    },
    {
      "cell_type": "code",
      "source": [
        "path_cost4, nodes4, duration4, max_nodes4, solution_path = ucs(start_state)\n",
        "\n",
        "print(\"\\n\\t\\t UCS Algorithm \")\n",
        "print(f\"Time Taken: {duration4:.6f} seconds\")\n",
        "print(f\"Path Cost: {path_cost4}\")\n",
        "print(f\"Nodes Visited: {nodes4}\")\n",
        "print(f\"Memory Used: {max_nodes4} nodes\")\n",
        "\n",
        "print(\"\\nSolution Path:\")\n",
        "for step in solution_path:\n",
        "    for row in step:\n",
        "        print(row)\n",
        "    print(\"..........\")"
      ],
      "metadata": {
        "colab": {
          "base_uri": "https://localhost:8080/"
        },
        "id": "jPA0AE-Wb9dt",
        "outputId": "facc07f4-8a08-4953-d950-68c5976df53b"
      },
      "execution_count": 14,
      "outputs": [
        {
          "output_type": "stream",
          "name": "stdout",
          "text": [
            "\n",
            "\t\t UCS Algorithm \n",
            "Time Taken: 0.000074 seconds\n",
            "Path Cost: 2\n",
            "Nodes Visited: 4\n",
            "Memory Used: 4 nodes\n",
            "\n",
            "Solution Path:\n",
            "[1, 0, 2]\n",
            "[3, 4, 5]\n",
            "[6, 7, 8]\n",
            "..........\n",
            "[0, 1, 2]\n",
            "[3, 4, 5]\n",
            "[6, 7, 8]\n",
            "..........\n"
          ]
        }
      ]
    },
    {
      "cell_type": "markdown",
      "source": [
        "## Graphical Comaprisons"
      ],
      "metadata": {
        "id": "aaDb78f9qM9f"
      }
    },
    {
      "cell_type": "code",
      "source": [
        "import plotly.graph_objects as go\n",
        "\n",
        "algorithms = [\"BFS\", \"DFS\", \"IDS\", \"UCS\"]\n",
        "\n",
        "path_cost1, nodes1, duration1, max1\n",
        "path_cost2, nodes2, duration2, max_stack2    # These are the names of variables ive used\n",
        "path_cost3, nodes3, duration3, max_depth3\n",
        "path_cost4, nodes4, duration4, max_nodes4,\n",
        "\n",
        "nodes_visited = [nodes1, nodes2, nodes3, nodes4]\n",
        "path_cost = [path_cost1, path_cost2, path_cost3, path_cost4]\n",
        "time_taken = [duration1, duration2, duration3, duration4]\n",
        "memory_used = [max1, max_stack2, max_depth3, max_nodes4]\n",
        "\n",
        "fig = go.Figure()\n",
        "\n",
        "fig.add_trace(go.Bar(x=algorithms, y=nodes_visited, name=\"Nodes Visited\", marker_color='blue'))\n",
        "fig.add_trace(go.Bar(x=algorithms, y=path_cost, name=\"Path Cost\", marker_color='red'))\n",
        "fig.add_trace(go.Bar(x=algorithms, y=time_taken, name=\"Time Taken (s)\", marker_color='green'))\n",
        "fig.add_trace(go.Bar(x=algorithms, y=memory_used, name=\"Memory Used\", marker_color='purple'))\n",
        "\n",
        "fig.update_layout(\n",
        "    title=\"Comparison of BFS, DFS, IDS, and UCS\",\n",
        "    xaxis_title=\"Algorithms\",\n",
        "    yaxis_title=\"Value\",\n",
        "    barmode='group',\n",
        "    template=\"plotly_dark\",\n",
        ")\n",
        "\n",
        "# Show plot\n",
        "fig.show()\n"
      ],
      "metadata": {
        "id": "W4AHIznHcCuj",
        "colab": {
          "base_uri": "https://localhost:8080/",
          "height": 542
        },
        "outputId": "f8f8886e-397c-477d-cc34-6425700d638b"
      },
      "execution_count": 16,
      "outputs": [
        {
          "output_type": "display_data",
          "data": {
            "text/html": [
              "<html>\n",
              "<head><meta charset=\"utf-8\" /></head>\n",
              "<body>\n",
              "    <div>            <script src=\"https://cdnjs.cloudflare.com/ajax/libs/mathjax/2.7.5/MathJax.js?config=TeX-AMS-MML_SVG\"></script><script type=\"text/javascript\">if (window.MathJax && window.MathJax.Hub && window.MathJax.Hub.Config) {window.MathJax.Hub.Config({SVG: {font: \"STIX-Web\"}});}</script>                <script type=\"text/javascript\">window.PlotlyConfig = {MathJaxConfig: 'local'};</script>\n",
              "        <script charset=\"utf-8\" src=\"https://cdn.plot.ly/plotly-2.35.2.min.js\"></script>                <div id=\"c5ba0afc-42d2-4ab5-aa20-640c367e28a9\" class=\"plotly-graph-div\" style=\"height:525px; width:100%;\"></div>            <script type=\"text/javascript\">                                    window.PLOTLYENV=window.PLOTLYENV || {};                                    if (document.getElementById(\"c5ba0afc-42d2-4ab5-aa20-640c367e28a9\")) {                    Plotly.newPlot(                        \"c5ba0afc-42d2-4ab5-aa20-640c367e28a9\",                        [{\"marker\":{\"color\":\"blue\"},\"name\":\"Nodes Visited\",\"x\":[\"BFS\",\"DFS\",\"IDS\",\"UCS\"],\"y\":[7,3,8,4],\"type\":\"bar\"},{\"marker\":{\"color\":\"red\"},\"name\":\"Path Cost\",\"x\":[\"BFS\",\"DFS\",\"IDS\",\"UCS\"],\"y\":[2,2,2,2],\"type\":\"bar\"},{\"marker\":{\"color\":\"green\"},\"name\":\"Time Taken (s)\",\"x\":[\"BFS\",\"DFS\",\"IDS\",\"UCS\"],\"y\":[0.00022172927856445312,0.00006961822509765625,0.00006008148193359375,0.0000743865966796875],\"type\":\"bar\"},{\"marker\":{\"color\":\"purple\"},\"name\":\"Memory Used\",\"x\":[\"BFS\",\"DFS\",\"IDS\",\"UCS\"],\"y\":[8,3,2,4],\"type\":\"bar\"}],                        {\"template\":{\"data\":{\"barpolar\":[{\"marker\":{\"line\":{\"color\":\"rgb(17,17,17)\",\"width\":0.5},\"pattern\":{\"fillmode\":\"overlay\",\"size\":10,\"solidity\":0.2}},\"type\":\"barpolar\"}],\"bar\":[{\"error_x\":{\"color\":\"#f2f5fa\"},\"error_y\":{\"color\":\"#f2f5fa\"},\"marker\":{\"line\":{\"color\":\"rgb(17,17,17)\",\"width\":0.5},\"pattern\":{\"fillmode\":\"overlay\",\"size\":10,\"solidity\":0.2}},\"type\":\"bar\"}],\"carpet\":[{\"aaxis\":{\"endlinecolor\":\"#A2B1C6\",\"gridcolor\":\"#506784\",\"linecolor\":\"#506784\",\"minorgridcolor\":\"#506784\",\"startlinecolor\":\"#A2B1C6\"},\"baxis\":{\"endlinecolor\":\"#A2B1C6\",\"gridcolor\":\"#506784\",\"linecolor\":\"#506784\",\"minorgridcolor\":\"#506784\",\"startlinecolor\":\"#A2B1C6\"},\"type\":\"carpet\"}],\"choropleth\":[{\"colorbar\":{\"outlinewidth\":0,\"ticks\":\"\"},\"type\":\"choropleth\"}],\"contourcarpet\":[{\"colorbar\":{\"outlinewidth\":0,\"ticks\":\"\"},\"type\":\"contourcarpet\"}],\"contour\":[{\"colorbar\":{\"outlinewidth\":0,\"ticks\":\"\"},\"colorscale\":[[0.0,\"#0d0887\"],[0.1111111111111111,\"#46039f\"],[0.2222222222222222,\"#7201a8\"],[0.3333333333333333,\"#9c179e\"],[0.4444444444444444,\"#bd3786\"],[0.5555555555555556,\"#d8576b\"],[0.6666666666666666,\"#ed7953\"],[0.7777777777777778,\"#fb9f3a\"],[0.8888888888888888,\"#fdca26\"],[1.0,\"#f0f921\"]],\"type\":\"contour\"}],\"heatmapgl\":[{\"colorbar\":{\"outlinewidth\":0,\"ticks\":\"\"},\"colorscale\":[[0.0,\"#0d0887\"],[0.1111111111111111,\"#46039f\"],[0.2222222222222222,\"#7201a8\"],[0.3333333333333333,\"#9c179e\"],[0.4444444444444444,\"#bd3786\"],[0.5555555555555556,\"#d8576b\"],[0.6666666666666666,\"#ed7953\"],[0.7777777777777778,\"#fb9f3a\"],[0.8888888888888888,\"#fdca26\"],[1.0,\"#f0f921\"]],\"type\":\"heatmapgl\"}],\"heatmap\":[{\"colorbar\":{\"outlinewidth\":0,\"ticks\":\"\"},\"colorscale\":[[0.0,\"#0d0887\"],[0.1111111111111111,\"#46039f\"],[0.2222222222222222,\"#7201a8\"],[0.3333333333333333,\"#9c179e\"],[0.4444444444444444,\"#bd3786\"],[0.5555555555555556,\"#d8576b\"],[0.6666666666666666,\"#ed7953\"],[0.7777777777777778,\"#fb9f3a\"],[0.8888888888888888,\"#fdca26\"],[1.0,\"#f0f921\"]],\"type\":\"heatmap\"}],\"histogram2dcontour\":[{\"colorbar\":{\"outlinewidth\":0,\"ticks\":\"\"},\"colorscale\":[[0.0,\"#0d0887\"],[0.1111111111111111,\"#46039f\"],[0.2222222222222222,\"#7201a8\"],[0.3333333333333333,\"#9c179e\"],[0.4444444444444444,\"#bd3786\"],[0.5555555555555556,\"#d8576b\"],[0.6666666666666666,\"#ed7953\"],[0.7777777777777778,\"#fb9f3a\"],[0.8888888888888888,\"#fdca26\"],[1.0,\"#f0f921\"]],\"type\":\"histogram2dcontour\"}],\"histogram2d\":[{\"colorbar\":{\"outlinewidth\":0,\"ticks\":\"\"},\"colorscale\":[[0.0,\"#0d0887\"],[0.1111111111111111,\"#46039f\"],[0.2222222222222222,\"#7201a8\"],[0.3333333333333333,\"#9c179e\"],[0.4444444444444444,\"#bd3786\"],[0.5555555555555556,\"#d8576b\"],[0.6666666666666666,\"#ed7953\"],[0.7777777777777778,\"#fb9f3a\"],[0.8888888888888888,\"#fdca26\"],[1.0,\"#f0f921\"]],\"type\":\"histogram2d\"}],\"histogram\":[{\"marker\":{\"pattern\":{\"fillmode\":\"overlay\",\"size\":10,\"solidity\":0.2}},\"type\":\"histogram\"}],\"mesh3d\":[{\"colorbar\":{\"outlinewidth\":0,\"ticks\":\"\"},\"type\":\"mesh3d\"}],\"parcoords\":[{\"line\":{\"colorbar\":{\"outlinewidth\":0,\"ticks\":\"\"}},\"type\":\"parcoords\"}],\"pie\":[{\"automargin\":true,\"type\":\"pie\"}],\"scatter3d\":[{\"line\":{\"colorbar\":{\"outlinewidth\":0,\"ticks\":\"\"}},\"marker\":{\"colorbar\":{\"outlinewidth\":0,\"ticks\":\"\"}},\"type\":\"scatter3d\"}],\"scattercarpet\":[{\"marker\":{\"colorbar\":{\"outlinewidth\":0,\"ticks\":\"\"}},\"type\":\"scattercarpet\"}],\"scattergeo\":[{\"marker\":{\"colorbar\":{\"outlinewidth\":0,\"ticks\":\"\"}},\"type\":\"scattergeo\"}],\"scattergl\":[{\"marker\":{\"line\":{\"color\":\"#283442\"}},\"type\":\"scattergl\"}],\"scattermapbox\":[{\"marker\":{\"colorbar\":{\"outlinewidth\":0,\"ticks\":\"\"}},\"type\":\"scattermapbox\"}],\"scatterpolargl\":[{\"marker\":{\"colorbar\":{\"outlinewidth\":0,\"ticks\":\"\"}},\"type\":\"scatterpolargl\"}],\"scatterpolar\":[{\"marker\":{\"colorbar\":{\"outlinewidth\":0,\"ticks\":\"\"}},\"type\":\"scatterpolar\"}],\"scatter\":[{\"marker\":{\"line\":{\"color\":\"#283442\"}},\"type\":\"scatter\"}],\"scatterternary\":[{\"marker\":{\"colorbar\":{\"outlinewidth\":0,\"ticks\":\"\"}},\"type\":\"scatterternary\"}],\"surface\":[{\"colorbar\":{\"outlinewidth\":0,\"ticks\":\"\"},\"colorscale\":[[0.0,\"#0d0887\"],[0.1111111111111111,\"#46039f\"],[0.2222222222222222,\"#7201a8\"],[0.3333333333333333,\"#9c179e\"],[0.4444444444444444,\"#bd3786\"],[0.5555555555555556,\"#d8576b\"],[0.6666666666666666,\"#ed7953\"],[0.7777777777777778,\"#fb9f3a\"],[0.8888888888888888,\"#fdca26\"],[1.0,\"#f0f921\"]],\"type\":\"surface\"}],\"table\":[{\"cells\":{\"fill\":{\"color\":\"#506784\"},\"line\":{\"color\":\"rgb(17,17,17)\"}},\"header\":{\"fill\":{\"color\":\"#2a3f5f\"},\"line\":{\"color\":\"rgb(17,17,17)\"}},\"type\":\"table\"}]},\"layout\":{\"annotationdefaults\":{\"arrowcolor\":\"#f2f5fa\",\"arrowhead\":0,\"arrowwidth\":1},\"autotypenumbers\":\"strict\",\"coloraxis\":{\"colorbar\":{\"outlinewidth\":0,\"ticks\":\"\"}},\"colorscale\":{\"diverging\":[[0,\"#8e0152\"],[0.1,\"#c51b7d\"],[0.2,\"#de77ae\"],[0.3,\"#f1b6da\"],[0.4,\"#fde0ef\"],[0.5,\"#f7f7f7\"],[0.6,\"#e6f5d0\"],[0.7,\"#b8e186\"],[0.8,\"#7fbc41\"],[0.9,\"#4d9221\"],[1,\"#276419\"]],\"sequential\":[[0.0,\"#0d0887\"],[0.1111111111111111,\"#46039f\"],[0.2222222222222222,\"#7201a8\"],[0.3333333333333333,\"#9c179e\"],[0.4444444444444444,\"#bd3786\"],[0.5555555555555556,\"#d8576b\"],[0.6666666666666666,\"#ed7953\"],[0.7777777777777778,\"#fb9f3a\"],[0.8888888888888888,\"#fdca26\"],[1.0,\"#f0f921\"]],\"sequentialminus\":[[0.0,\"#0d0887\"],[0.1111111111111111,\"#46039f\"],[0.2222222222222222,\"#7201a8\"],[0.3333333333333333,\"#9c179e\"],[0.4444444444444444,\"#bd3786\"],[0.5555555555555556,\"#d8576b\"],[0.6666666666666666,\"#ed7953\"],[0.7777777777777778,\"#fb9f3a\"],[0.8888888888888888,\"#fdca26\"],[1.0,\"#f0f921\"]]},\"colorway\":[\"#636efa\",\"#EF553B\",\"#00cc96\",\"#ab63fa\",\"#FFA15A\",\"#19d3f3\",\"#FF6692\",\"#B6E880\",\"#FF97FF\",\"#FECB52\"],\"font\":{\"color\":\"#f2f5fa\"},\"geo\":{\"bgcolor\":\"rgb(17,17,17)\",\"lakecolor\":\"rgb(17,17,17)\",\"landcolor\":\"rgb(17,17,17)\",\"showlakes\":true,\"showland\":true,\"subunitcolor\":\"#506784\"},\"hoverlabel\":{\"align\":\"left\"},\"hovermode\":\"closest\",\"mapbox\":{\"style\":\"dark\"},\"paper_bgcolor\":\"rgb(17,17,17)\",\"plot_bgcolor\":\"rgb(17,17,17)\",\"polar\":{\"angularaxis\":{\"gridcolor\":\"#506784\",\"linecolor\":\"#506784\",\"ticks\":\"\"},\"bgcolor\":\"rgb(17,17,17)\",\"radialaxis\":{\"gridcolor\":\"#506784\",\"linecolor\":\"#506784\",\"ticks\":\"\"}},\"scene\":{\"xaxis\":{\"backgroundcolor\":\"rgb(17,17,17)\",\"gridcolor\":\"#506784\",\"gridwidth\":2,\"linecolor\":\"#506784\",\"showbackground\":true,\"ticks\":\"\",\"zerolinecolor\":\"#C8D4E3\"},\"yaxis\":{\"backgroundcolor\":\"rgb(17,17,17)\",\"gridcolor\":\"#506784\",\"gridwidth\":2,\"linecolor\":\"#506784\",\"showbackground\":true,\"ticks\":\"\",\"zerolinecolor\":\"#C8D4E3\"},\"zaxis\":{\"backgroundcolor\":\"rgb(17,17,17)\",\"gridcolor\":\"#506784\",\"gridwidth\":2,\"linecolor\":\"#506784\",\"showbackground\":true,\"ticks\":\"\",\"zerolinecolor\":\"#C8D4E3\"}},\"shapedefaults\":{\"line\":{\"color\":\"#f2f5fa\"}},\"sliderdefaults\":{\"bgcolor\":\"#C8D4E3\",\"bordercolor\":\"rgb(17,17,17)\",\"borderwidth\":1,\"tickwidth\":0},\"ternary\":{\"aaxis\":{\"gridcolor\":\"#506784\",\"linecolor\":\"#506784\",\"ticks\":\"\"},\"baxis\":{\"gridcolor\":\"#506784\",\"linecolor\":\"#506784\",\"ticks\":\"\"},\"bgcolor\":\"rgb(17,17,17)\",\"caxis\":{\"gridcolor\":\"#506784\",\"linecolor\":\"#506784\",\"ticks\":\"\"}},\"title\":{\"x\":0.05},\"updatemenudefaults\":{\"bgcolor\":\"#506784\",\"borderwidth\":0},\"xaxis\":{\"automargin\":true,\"gridcolor\":\"#283442\",\"linecolor\":\"#506784\",\"ticks\":\"\",\"title\":{\"standoff\":15},\"zerolinecolor\":\"#283442\",\"zerolinewidth\":2},\"yaxis\":{\"automargin\":true,\"gridcolor\":\"#283442\",\"linecolor\":\"#506784\",\"ticks\":\"\",\"title\":{\"standoff\":15},\"zerolinecolor\":\"#283442\",\"zerolinewidth\":2}}},\"title\":{\"text\":\"Comparison of BFS, DFS, IDS, and UCS\"},\"xaxis\":{\"title\":{\"text\":\"Algorithms\"}},\"yaxis\":{\"title\":{\"text\":\"Value\"}},\"barmode\":\"group\"},                        {\"responsive\": true}                    ).then(function(){\n",
              "                            \n",
              "var gd = document.getElementById('c5ba0afc-42d2-4ab5-aa20-640c367e28a9');\n",
              "var x = new MutationObserver(function (mutations, observer) {{\n",
              "        var display = window.getComputedStyle(gd).display;\n",
              "        if (!display || display === 'none') {{\n",
              "            console.log([gd, 'removed!']);\n",
              "            Plotly.purge(gd);\n",
              "            observer.disconnect();\n",
              "        }}\n",
              "}});\n",
              "\n",
              "// Listen for the removal of the full notebook cells\n",
              "var notebookContainer = gd.closest('#notebook-container');\n",
              "if (notebookContainer) {{\n",
              "    x.observe(notebookContainer, {childList: true});\n",
              "}}\n",
              "\n",
              "// Listen for the clearing of the current output cell\n",
              "var outputEl = gd.closest('.output');\n",
              "if (outputEl) {{\n",
              "    x.observe(outputEl, {childList: true});\n",
              "}}\n",
              "\n",
              "                        })                };                            </script>        </div>\n",
              "</body>\n",
              "</html>"
            ]
          },
          "metadata": {}
        }
      ]
    },
    {
      "cell_type": "code",
      "source": [
        "fig2 = go.Figure()\n",
        "\n",
        "fig2.add_trace(go.Bar(x=algorithms, y=time_taken, name=\"Time Taken (s)\", marker_color='green'))\n",
        "\n",
        "fig2.update_layout(\n",
        "    title=\"Time Comparison of BFS, DFS, IDS, and UCS\",\n",
        "    xaxis_title=\"Algorithms\",\n",
        "    yaxis_title=\"Time (seconds)\",\n",
        "    template=\"plotly_dark\",\n",
        ")\n",
        "\n",
        "fig2.show()"
      ],
      "metadata": {
        "colab": {
          "base_uri": "https://localhost:8080/",
          "height": 542
        },
        "id": "wsG7XVu_oY8e",
        "outputId": "8262c208-41b5-4a95-ad20-e0367fcf2850"
      },
      "execution_count": 21,
      "outputs": [
        {
          "output_type": "display_data",
          "data": {
            "text/html": [
              "<html>\n",
              "<head><meta charset=\"utf-8\" /></head>\n",
              "<body>\n",
              "    <div>            <script src=\"https://cdnjs.cloudflare.com/ajax/libs/mathjax/2.7.5/MathJax.js?config=TeX-AMS-MML_SVG\"></script><script type=\"text/javascript\">if (window.MathJax && window.MathJax.Hub && window.MathJax.Hub.Config) {window.MathJax.Hub.Config({SVG: {font: \"STIX-Web\"}});}</script>                <script type=\"text/javascript\">window.PlotlyConfig = {MathJaxConfig: 'local'};</script>\n",
              "        <script charset=\"utf-8\" src=\"https://cdn.plot.ly/plotly-2.35.2.min.js\"></script>                <div id=\"30209b6d-6705-4e48-8366-aa1f98583547\" class=\"plotly-graph-div\" style=\"height:525px; width:100%;\"></div>            <script type=\"text/javascript\">                                    window.PLOTLYENV=window.PLOTLYENV || {};                                    if (document.getElementById(\"30209b6d-6705-4e48-8366-aa1f98583547\")) {                    Plotly.newPlot(                        \"30209b6d-6705-4e48-8366-aa1f98583547\",                        [{\"marker\":{\"color\":\"green\"},\"name\":\"Time Taken (s)\",\"x\":[\"BFS\",\"DFS\",\"IDS\",\"UCS\"],\"y\":[0.00022172927856445312,0.00006961822509765625,0.00006008148193359375,0.0000743865966796875],\"type\":\"bar\"}],                        {\"template\":{\"data\":{\"barpolar\":[{\"marker\":{\"line\":{\"color\":\"rgb(17,17,17)\",\"width\":0.5},\"pattern\":{\"fillmode\":\"overlay\",\"size\":10,\"solidity\":0.2}},\"type\":\"barpolar\"}],\"bar\":[{\"error_x\":{\"color\":\"#f2f5fa\"},\"error_y\":{\"color\":\"#f2f5fa\"},\"marker\":{\"line\":{\"color\":\"rgb(17,17,17)\",\"width\":0.5},\"pattern\":{\"fillmode\":\"overlay\",\"size\":10,\"solidity\":0.2}},\"type\":\"bar\"}],\"carpet\":[{\"aaxis\":{\"endlinecolor\":\"#A2B1C6\",\"gridcolor\":\"#506784\",\"linecolor\":\"#506784\",\"minorgridcolor\":\"#506784\",\"startlinecolor\":\"#A2B1C6\"},\"baxis\":{\"endlinecolor\":\"#A2B1C6\",\"gridcolor\":\"#506784\",\"linecolor\":\"#506784\",\"minorgridcolor\":\"#506784\",\"startlinecolor\":\"#A2B1C6\"},\"type\":\"carpet\"}],\"choropleth\":[{\"colorbar\":{\"outlinewidth\":0,\"ticks\":\"\"},\"type\":\"choropleth\"}],\"contourcarpet\":[{\"colorbar\":{\"outlinewidth\":0,\"ticks\":\"\"},\"type\":\"contourcarpet\"}],\"contour\":[{\"colorbar\":{\"outlinewidth\":0,\"ticks\":\"\"},\"colorscale\":[[0.0,\"#0d0887\"],[0.1111111111111111,\"#46039f\"],[0.2222222222222222,\"#7201a8\"],[0.3333333333333333,\"#9c179e\"],[0.4444444444444444,\"#bd3786\"],[0.5555555555555556,\"#d8576b\"],[0.6666666666666666,\"#ed7953\"],[0.7777777777777778,\"#fb9f3a\"],[0.8888888888888888,\"#fdca26\"],[1.0,\"#f0f921\"]],\"type\":\"contour\"}],\"heatmapgl\":[{\"colorbar\":{\"outlinewidth\":0,\"ticks\":\"\"},\"colorscale\":[[0.0,\"#0d0887\"],[0.1111111111111111,\"#46039f\"],[0.2222222222222222,\"#7201a8\"],[0.3333333333333333,\"#9c179e\"],[0.4444444444444444,\"#bd3786\"],[0.5555555555555556,\"#d8576b\"],[0.6666666666666666,\"#ed7953\"],[0.7777777777777778,\"#fb9f3a\"],[0.8888888888888888,\"#fdca26\"],[1.0,\"#f0f921\"]],\"type\":\"heatmapgl\"}],\"heatmap\":[{\"colorbar\":{\"outlinewidth\":0,\"ticks\":\"\"},\"colorscale\":[[0.0,\"#0d0887\"],[0.1111111111111111,\"#46039f\"],[0.2222222222222222,\"#7201a8\"],[0.3333333333333333,\"#9c179e\"],[0.4444444444444444,\"#bd3786\"],[0.5555555555555556,\"#d8576b\"],[0.6666666666666666,\"#ed7953\"],[0.7777777777777778,\"#fb9f3a\"],[0.8888888888888888,\"#fdca26\"],[1.0,\"#f0f921\"]],\"type\":\"heatmap\"}],\"histogram2dcontour\":[{\"colorbar\":{\"outlinewidth\":0,\"ticks\":\"\"},\"colorscale\":[[0.0,\"#0d0887\"],[0.1111111111111111,\"#46039f\"],[0.2222222222222222,\"#7201a8\"],[0.3333333333333333,\"#9c179e\"],[0.4444444444444444,\"#bd3786\"],[0.5555555555555556,\"#d8576b\"],[0.6666666666666666,\"#ed7953\"],[0.7777777777777778,\"#fb9f3a\"],[0.8888888888888888,\"#fdca26\"],[1.0,\"#f0f921\"]],\"type\":\"histogram2dcontour\"}],\"histogram2d\":[{\"colorbar\":{\"outlinewidth\":0,\"ticks\":\"\"},\"colorscale\":[[0.0,\"#0d0887\"],[0.1111111111111111,\"#46039f\"],[0.2222222222222222,\"#7201a8\"],[0.3333333333333333,\"#9c179e\"],[0.4444444444444444,\"#bd3786\"],[0.5555555555555556,\"#d8576b\"],[0.6666666666666666,\"#ed7953\"],[0.7777777777777778,\"#fb9f3a\"],[0.8888888888888888,\"#fdca26\"],[1.0,\"#f0f921\"]],\"type\":\"histogram2d\"}],\"histogram\":[{\"marker\":{\"pattern\":{\"fillmode\":\"overlay\",\"size\":10,\"solidity\":0.2}},\"type\":\"histogram\"}],\"mesh3d\":[{\"colorbar\":{\"outlinewidth\":0,\"ticks\":\"\"},\"type\":\"mesh3d\"}],\"parcoords\":[{\"line\":{\"colorbar\":{\"outlinewidth\":0,\"ticks\":\"\"}},\"type\":\"parcoords\"}],\"pie\":[{\"automargin\":true,\"type\":\"pie\"}],\"scatter3d\":[{\"line\":{\"colorbar\":{\"outlinewidth\":0,\"ticks\":\"\"}},\"marker\":{\"colorbar\":{\"outlinewidth\":0,\"ticks\":\"\"}},\"type\":\"scatter3d\"}],\"scattercarpet\":[{\"marker\":{\"colorbar\":{\"outlinewidth\":0,\"ticks\":\"\"}},\"type\":\"scattercarpet\"}],\"scattergeo\":[{\"marker\":{\"colorbar\":{\"outlinewidth\":0,\"ticks\":\"\"}},\"type\":\"scattergeo\"}],\"scattergl\":[{\"marker\":{\"line\":{\"color\":\"#283442\"}},\"type\":\"scattergl\"}],\"scattermapbox\":[{\"marker\":{\"colorbar\":{\"outlinewidth\":0,\"ticks\":\"\"}},\"type\":\"scattermapbox\"}],\"scatterpolargl\":[{\"marker\":{\"colorbar\":{\"outlinewidth\":0,\"ticks\":\"\"}},\"type\":\"scatterpolargl\"}],\"scatterpolar\":[{\"marker\":{\"colorbar\":{\"outlinewidth\":0,\"ticks\":\"\"}},\"type\":\"scatterpolar\"}],\"scatter\":[{\"marker\":{\"line\":{\"color\":\"#283442\"}},\"type\":\"scatter\"}],\"scatterternary\":[{\"marker\":{\"colorbar\":{\"outlinewidth\":0,\"ticks\":\"\"}},\"type\":\"scatterternary\"}],\"surface\":[{\"colorbar\":{\"outlinewidth\":0,\"ticks\":\"\"},\"colorscale\":[[0.0,\"#0d0887\"],[0.1111111111111111,\"#46039f\"],[0.2222222222222222,\"#7201a8\"],[0.3333333333333333,\"#9c179e\"],[0.4444444444444444,\"#bd3786\"],[0.5555555555555556,\"#d8576b\"],[0.6666666666666666,\"#ed7953\"],[0.7777777777777778,\"#fb9f3a\"],[0.8888888888888888,\"#fdca26\"],[1.0,\"#f0f921\"]],\"type\":\"surface\"}],\"table\":[{\"cells\":{\"fill\":{\"color\":\"#506784\"},\"line\":{\"color\":\"rgb(17,17,17)\"}},\"header\":{\"fill\":{\"color\":\"#2a3f5f\"},\"line\":{\"color\":\"rgb(17,17,17)\"}},\"type\":\"table\"}]},\"layout\":{\"annotationdefaults\":{\"arrowcolor\":\"#f2f5fa\",\"arrowhead\":0,\"arrowwidth\":1},\"autotypenumbers\":\"strict\",\"coloraxis\":{\"colorbar\":{\"outlinewidth\":0,\"ticks\":\"\"}},\"colorscale\":{\"diverging\":[[0,\"#8e0152\"],[0.1,\"#c51b7d\"],[0.2,\"#de77ae\"],[0.3,\"#f1b6da\"],[0.4,\"#fde0ef\"],[0.5,\"#f7f7f7\"],[0.6,\"#e6f5d0\"],[0.7,\"#b8e186\"],[0.8,\"#7fbc41\"],[0.9,\"#4d9221\"],[1,\"#276419\"]],\"sequential\":[[0.0,\"#0d0887\"],[0.1111111111111111,\"#46039f\"],[0.2222222222222222,\"#7201a8\"],[0.3333333333333333,\"#9c179e\"],[0.4444444444444444,\"#bd3786\"],[0.5555555555555556,\"#d8576b\"],[0.6666666666666666,\"#ed7953\"],[0.7777777777777778,\"#fb9f3a\"],[0.8888888888888888,\"#fdca26\"],[1.0,\"#f0f921\"]],\"sequentialminus\":[[0.0,\"#0d0887\"],[0.1111111111111111,\"#46039f\"],[0.2222222222222222,\"#7201a8\"],[0.3333333333333333,\"#9c179e\"],[0.4444444444444444,\"#bd3786\"],[0.5555555555555556,\"#d8576b\"],[0.6666666666666666,\"#ed7953\"],[0.7777777777777778,\"#fb9f3a\"],[0.8888888888888888,\"#fdca26\"],[1.0,\"#f0f921\"]]},\"colorway\":[\"#636efa\",\"#EF553B\",\"#00cc96\",\"#ab63fa\",\"#FFA15A\",\"#19d3f3\",\"#FF6692\",\"#B6E880\",\"#FF97FF\",\"#FECB52\"],\"font\":{\"color\":\"#f2f5fa\"},\"geo\":{\"bgcolor\":\"rgb(17,17,17)\",\"lakecolor\":\"rgb(17,17,17)\",\"landcolor\":\"rgb(17,17,17)\",\"showlakes\":true,\"showland\":true,\"subunitcolor\":\"#506784\"},\"hoverlabel\":{\"align\":\"left\"},\"hovermode\":\"closest\",\"mapbox\":{\"style\":\"dark\"},\"paper_bgcolor\":\"rgb(17,17,17)\",\"plot_bgcolor\":\"rgb(17,17,17)\",\"polar\":{\"angularaxis\":{\"gridcolor\":\"#506784\",\"linecolor\":\"#506784\",\"ticks\":\"\"},\"bgcolor\":\"rgb(17,17,17)\",\"radialaxis\":{\"gridcolor\":\"#506784\",\"linecolor\":\"#506784\",\"ticks\":\"\"}},\"scene\":{\"xaxis\":{\"backgroundcolor\":\"rgb(17,17,17)\",\"gridcolor\":\"#506784\",\"gridwidth\":2,\"linecolor\":\"#506784\",\"showbackground\":true,\"ticks\":\"\",\"zerolinecolor\":\"#C8D4E3\"},\"yaxis\":{\"backgroundcolor\":\"rgb(17,17,17)\",\"gridcolor\":\"#506784\",\"gridwidth\":2,\"linecolor\":\"#506784\",\"showbackground\":true,\"ticks\":\"\",\"zerolinecolor\":\"#C8D4E3\"},\"zaxis\":{\"backgroundcolor\":\"rgb(17,17,17)\",\"gridcolor\":\"#506784\",\"gridwidth\":2,\"linecolor\":\"#506784\",\"showbackground\":true,\"ticks\":\"\",\"zerolinecolor\":\"#C8D4E3\"}},\"shapedefaults\":{\"line\":{\"color\":\"#f2f5fa\"}},\"sliderdefaults\":{\"bgcolor\":\"#C8D4E3\",\"bordercolor\":\"rgb(17,17,17)\",\"borderwidth\":1,\"tickwidth\":0},\"ternary\":{\"aaxis\":{\"gridcolor\":\"#506784\",\"linecolor\":\"#506784\",\"ticks\":\"\"},\"baxis\":{\"gridcolor\":\"#506784\",\"linecolor\":\"#506784\",\"ticks\":\"\"},\"bgcolor\":\"rgb(17,17,17)\",\"caxis\":{\"gridcolor\":\"#506784\",\"linecolor\":\"#506784\",\"ticks\":\"\"}},\"title\":{\"x\":0.05},\"updatemenudefaults\":{\"bgcolor\":\"#506784\",\"borderwidth\":0},\"xaxis\":{\"automargin\":true,\"gridcolor\":\"#283442\",\"linecolor\":\"#506784\",\"ticks\":\"\",\"title\":{\"standoff\":15},\"zerolinecolor\":\"#283442\",\"zerolinewidth\":2},\"yaxis\":{\"automargin\":true,\"gridcolor\":\"#283442\",\"linecolor\":\"#506784\",\"ticks\":\"\",\"title\":{\"standoff\":15},\"zerolinecolor\":\"#283442\",\"zerolinewidth\":2}}},\"title\":{\"text\":\"Time Comparison of BFS, DFS, IDS, and UCS\"},\"xaxis\":{\"title\":{\"text\":\"Algorithms\"}},\"yaxis\":{\"title\":{\"text\":\"Time (seconds)\"}}},                        {\"responsive\": true}                    ).then(function(){\n",
              "                            \n",
              "var gd = document.getElementById('30209b6d-6705-4e48-8366-aa1f98583547');\n",
              "var x = new MutationObserver(function (mutations, observer) {{\n",
              "        var display = window.getComputedStyle(gd).display;\n",
              "        if (!display || display === 'none') {{\n",
              "            console.log([gd, 'removed!']);\n",
              "            Plotly.purge(gd);\n",
              "            observer.disconnect();\n",
              "        }}\n",
              "}});\n",
              "\n",
              "// Listen for the removal of the full notebook cells\n",
              "var notebookContainer = gd.closest('#notebook-container');\n",
              "if (notebookContainer) {{\n",
              "    x.observe(notebookContainer, {childList: true});\n",
              "}}\n",
              "\n",
              "// Listen for the clearing of the current output cell\n",
              "var outputEl = gd.closest('.output');\n",
              "if (outputEl) {{\n",
              "    x.observe(outputEl, {childList: true});\n",
              "}}\n",
              "\n",
              "                        })                };                            </script>        </div>\n",
              "</body>\n",
              "</html>"
            ]
          },
          "metadata": {}
        }
      ]
    },
    {
      "cell_type": "code",
      "source": [],
      "metadata": {
        "id": "pho1OZqjoZU6"
      },
      "execution_count": null,
      "outputs": []
    }
  ]
}